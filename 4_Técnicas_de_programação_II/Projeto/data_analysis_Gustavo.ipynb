{
 "cells": [
  {
   "cell_type": "code",
   "execution_count": 1,
   "id": "b8356166",
   "metadata": {},
   "outputs": [],
   "source": [
    "import pandas as pd \n",
    "import matplotlib.pyplot as plt\n",
    "import numpy as np \n",
    "import plotly.express as px"
   ]
  },
  {
   "cell_type": "code",
   "execution_count": 2,
   "id": "e36e7ba2",
   "metadata": {},
   "outputs": [],
   "source": [
    "df = pd.read_csv('Life_Expectancy_00_15.csv', sep = ';')"
   ]
  },
  {
   "attachments": {},
   "cell_type": "markdown",
   "id": "77c72f25",
   "metadata": {},
   "source": [
    "##### Verificando se os dados estão com informações coerentes com as colunas"
   ]
  },
  {
   "cell_type": "code",
   "execution_count": 4,
   "id": "55048af8",
   "metadata": {},
   "outputs": [
    {
     "data": {
      "text/html": [
       "<div>\n",
       "<style scoped>\n",
       "    .dataframe tbody tr th:only-of-type {\n",
       "        vertical-align: middle;\n",
       "    }\n",
       "\n",
       "    .dataframe tbody tr th {\n",
       "        vertical-align: top;\n",
       "    }\n",
       "\n",
       "    .dataframe thead th {\n",
       "        text-align: right;\n",
       "    }\n",
       "</style>\n",
       "<table border=\"1\" class=\"dataframe\">\n",
       "  <thead>\n",
       "    <tr style=\"text-align: right;\">\n",
       "      <th></th>\n",
       "      <th>Country</th>\n",
       "      <th>Year</th>\n",
       "      <th>Continent</th>\n",
       "      <th>Least Developed</th>\n",
       "      <th>Life Expectancy</th>\n",
       "      <th>Population</th>\n",
       "      <th>CO2 emissions</th>\n",
       "      <th>Health expenditure</th>\n",
       "      <th>Electric power consumption</th>\n",
       "      <th>Forest area</th>\n",
       "      <th>GDP per capita</th>\n",
       "      <th>Individuals using the Internet</th>\n",
       "      <th>Military expenditure</th>\n",
       "      <th>People practicing open defecation</th>\n",
       "      <th>People using at least basic drinking water services</th>\n",
       "      <th>Obesity among adults</th>\n",
       "      <th>Beer consumption per capita</th>\n",
       "    </tr>\n",
       "  </thead>\n",
       "  <tbody>\n",
       "    <tr>\n",
       "      <th>0</th>\n",
       "      <td>Albania</td>\n",
       "      <td>2000</td>\n",
       "      <td>Europe</td>\n",
       "      <td>False</td>\n",
       "      <td>73.955</td>\n",
       "      <td>3089027</td>\n",
       "      <td>1.026213</td>\n",
       "      <td>7.233370</td>\n",
       "      <td>1414.703784</td>\n",
       "      <td>28.076642</td>\n",
       "      <td>3860.804627</td>\n",
       "      <td>0.114097</td>\n",
       "      <td>1.246360</td>\n",
       "      <td>0.888853</td>\n",
       "      <td>86.754471</td>\n",
       "      <td>12.8</td>\n",
       "      <td>1.33431</td>\n",
       "    </tr>\n",
       "    <tr>\n",
       "      <th>1</th>\n",
       "      <td>Albania</td>\n",
       "      <td>2001</td>\n",
       "      <td>Europe</td>\n",
       "      <td>False</td>\n",
       "      <td>74.288</td>\n",
       "      <td>3060173</td>\n",
       "      <td>1.055496</td>\n",
       "      <td>7.139524</td>\n",
       "      <td>1449.647413</td>\n",
       "      <td>28.123248</td>\n",
       "      <td>4299.546493</td>\n",
       "      <td>0.325798</td>\n",
       "      <td>1.309291</td>\n",
       "      <td>0.836397</td>\n",
       "      <td>86.904070</td>\n",
       "      <td>13.3</td>\n",
       "      <td>1.48995</td>\n",
       "    </tr>\n",
       "    <tr>\n",
       "      <th>2</th>\n",
       "      <td>Albania</td>\n",
       "      <td>2002</td>\n",
       "      <td>Europe</td>\n",
       "      <td>False</td>\n",
       "      <td>74.579</td>\n",
       "      <td>3051010</td>\n",
       "      <td>1.232379</td>\n",
       "      <td>6.909341</td>\n",
       "      <td>1351.230796</td>\n",
       "      <td>28.169854</td>\n",
       "      <td>4661.402695</td>\n",
       "      <td>0.390081</td>\n",
       "      <td>1.320034</td>\n",
       "      <td>0.781899</td>\n",
       "      <td>87.451635</td>\n",
       "      <td>13.9</td>\n",
       "      <td>1.28697</td>\n",
       "    </tr>\n",
       "    <tr>\n",
       "      <th>3</th>\n",
       "      <td>Albania</td>\n",
       "      <td>2003</td>\n",
       "      <td>Europe</td>\n",
       "      <td>False</td>\n",
       "      <td>74.828</td>\n",
       "      <td>3039616</td>\n",
       "      <td>1.338985</td>\n",
       "      <td>7.063490</td>\n",
       "      <td>1578.165919</td>\n",
       "      <td>28.216460</td>\n",
       "      <td>5000.049363</td>\n",
       "      <td>0.971900</td>\n",
       "      <td>1.336843</td>\n",
       "      <td>0.728191</td>\n",
       "      <td>87.987194</td>\n",
       "      <td>14.4</td>\n",
       "      <td>1.44830</td>\n",
       "    </tr>\n",
       "    <tr>\n",
       "      <th>4</th>\n",
       "      <td>Albania</td>\n",
       "      <td>2004</td>\n",
       "      <td>Europe</td>\n",
       "      <td>False</td>\n",
       "      <td>75.039</td>\n",
       "      <td>3026939</td>\n",
       "      <td>1.404059</td>\n",
       "      <td>6.773372</td>\n",
       "      <td>1469.264539</td>\n",
       "      <td>28.263066</td>\n",
       "      <td>5427.732662</td>\n",
       "      <td>2.420388</td>\n",
       "      <td>1.381158</td>\n",
       "      <td>0.675281</td>\n",
       "      <td>88.510583</td>\n",
       "      <td>15.0</td>\n",
       "      <td>1.37617</td>\n",
       "    </tr>\n",
       "    <tr>\n",
       "      <th>...</th>\n",
       "      <td>...</td>\n",
       "      <td>...</td>\n",
       "      <td>...</td>\n",
       "      <td>...</td>\n",
       "      <td>...</td>\n",
       "      <td>...</td>\n",
       "      <td>...</td>\n",
       "      <td>...</td>\n",
       "      <td>...</td>\n",
       "      <td>...</td>\n",
       "      <td>...</td>\n",
       "      <td>...</td>\n",
       "      <td>...</td>\n",
       "      <td>...</td>\n",
       "      <td>...</td>\n",
       "      <td>...</td>\n",
       "      <td>...</td>\n",
       "    </tr>\n",
       "    <tr>\n",
       "      <th>1899</th>\n",
       "      <td>Zimbabwe</td>\n",
       "      <td>2011</td>\n",
       "      <td>Africa</td>\n",
       "      <td>False</td>\n",
       "      <td>52.896</td>\n",
       "      <td>12894323</td>\n",
       "      <td>0.884886</td>\n",
       "      <td>8.081738</td>\n",
       "      <td>606.643960</td>\n",
       "      <td>46.165723</td>\n",
       "      <td>2101.824051</td>\n",
       "      <td>8.400000</td>\n",
       "      <td>1.407162</td>\n",
       "      <td>26.876148</td>\n",
       "      <td>67.016076</td>\n",
       "      <td>10.8</td>\n",
       "      <td>2.05000</td>\n",
       "    </tr>\n",
       "    <tr>\n",
       "      <th>1900</th>\n",
       "      <td>Zimbabwe</td>\n",
       "      <td>2012</td>\n",
       "      <td>Africa</td>\n",
       "      <td>False</td>\n",
       "      <td>55.032</td>\n",
       "      <td>13115149</td>\n",
       "      <td>0.915735</td>\n",
       "      <td>6.918354</td>\n",
       "      <td>636.248991</td>\n",
       "      <td>46.046633</td>\n",
       "      <td>2375.927006</td>\n",
       "      <td>12.000000</td>\n",
       "      <td>1.859609</td>\n",
       "      <td>26.533231</td>\n",
       "      <td>66.491185</td>\n",
       "      <td>11.1</td>\n",
       "      <td>2.07000</td>\n",
       "    </tr>\n",
       "    <tr>\n",
       "      <th>1901</th>\n",
       "      <td>Zimbabwe</td>\n",
       "      <td>2013</td>\n",
       "      <td>Africa</td>\n",
       "      <td>False</td>\n",
       "      <td>56.897</td>\n",
       "      <td>13350378</td>\n",
       "      <td>0.919824</td>\n",
       "      <td>7.110148</td>\n",
       "      <td>608.761669</td>\n",
       "      <td>45.927543</td>\n",
       "      <td>2560.773267</td>\n",
       "      <td>15.500000</td>\n",
       "      <td>1.868420</td>\n",
       "      <td>26.188786</td>\n",
       "      <td>65.966474</td>\n",
       "      <td>11.3</td>\n",
       "      <td>2.12000</td>\n",
       "    </tr>\n",
       "    <tr>\n",
       "      <th>1902</th>\n",
       "      <td>Zimbabwe</td>\n",
       "      <td>2014</td>\n",
       "      <td>Africa</td>\n",
       "      <td>False</td>\n",
       "      <td>58.410</td>\n",
       "      <td>13586710</td>\n",
       "      <td>0.889104</td>\n",
       "      <td>8.133525</td>\n",
       "      <td>628.746242</td>\n",
       "      <td>45.808453</td>\n",
       "      <td>2612.455954</td>\n",
       "      <td>16.364740</td>\n",
       "      <td>1.888080</td>\n",
       "      <td>25.832157</td>\n",
       "      <td>65.454108</td>\n",
       "      <td>11.6</td>\n",
       "      <td>2.23000</td>\n",
       "    </tr>\n",
       "    <tr>\n",
       "      <th>1903</th>\n",
       "      <td>Zimbabwe</td>\n",
       "      <td>2015</td>\n",
       "      <td>Africa</td>\n",
       "      <td>False</td>\n",
       "      <td>59.534</td>\n",
       "      <td>13814642</td>\n",
       "      <td>0.899770</td>\n",
       "      <td>7.452066</td>\n",
       "      <td>609.124652</td>\n",
       "      <td>45.689363</td>\n",
       "      <td>2679.507615</td>\n",
       "      <td>22.742818</td>\n",
       "      <td>1.886876</td>\n",
       "      <td>25.463272</td>\n",
       "      <td>64.954929</td>\n",
       "      <td>11.9</td>\n",
       "      <td>1.93000</td>\n",
       "    </tr>\n",
       "  </tbody>\n",
       "</table>\n",
       "<p>1904 rows × 17 columns</p>\n",
       "</div>"
      ],
      "text/plain": [
       "       Country  Year Continent  Least Developed  Life Expectancy  Population  \\\n",
       "0      Albania  2000    Europe            False           73.955     3089027   \n",
       "1      Albania  2001    Europe            False           74.288     3060173   \n",
       "2      Albania  2002    Europe            False           74.579     3051010   \n",
       "3      Albania  2003    Europe            False           74.828     3039616   \n",
       "4      Albania  2004    Europe            False           75.039     3026939   \n",
       "...        ...   ...       ...              ...              ...         ...   \n",
       "1899  Zimbabwe  2011    Africa            False           52.896    12894323   \n",
       "1900  Zimbabwe  2012    Africa            False           55.032    13115149   \n",
       "1901  Zimbabwe  2013    Africa            False           56.897    13350378   \n",
       "1902  Zimbabwe  2014    Africa            False           58.410    13586710   \n",
       "1903  Zimbabwe  2015    Africa            False           59.534    13814642   \n",
       "\n",
       "      CO2 emissions  Health expenditure  Electric power consumption  \\\n",
       "0          1.026213            7.233370                 1414.703784   \n",
       "1          1.055496            7.139524                 1449.647413   \n",
       "2          1.232379            6.909341                 1351.230796   \n",
       "3          1.338985            7.063490                 1578.165919   \n",
       "4          1.404059            6.773372                 1469.264539   \n",
       "...             ...                 ...                         ...   \n",
       "1899       0.884886            8.081738                  606.643960   \n",
       "1900       0.915735            6.918354                  636.248991   \n",
       "1901       0.919824            7.110148                  608.761669   \n",
       "1902       0.889104            8.133525                  628.746242   \n",
       "1903       0.899770            7.452066                  609.124652   \n",
       "\n",
       "      Forest area  GDP per capita  Individuals using the Internet  \\\n",
       "0       28.076642     3860.804627                        0.114097   \n",
       "1       28.123248     4299.546493                        0.325798   \n",
       "2       28.169854     4661.402695                        0.390081   \n",
       "3       28.216460     5000.049363                        0.971900   \n",
       "4       28.263066     5427.732662                        2.420388   \n",
       "...           ...             ...                             ...   \n",
       "1899    46.165723     2101.824051                        8.400000   \n",
       "1900    46.046633     2375.927006                       12.000000   \n",
       "1901    45.927543     2560.773267                       15.500000   \n",
       "1902    45.808453     2612.455954                       16.364740   \n",
       "1903    45.689363     2679.507615                       22.742818   \n",
       "\n",
       "      Military expenditure  People practicing open defecation  \\\n",
       "0                 1.246360                           0.888853   \n",
       "1                 1.309291                           0.836397   \n",
       "2                 1.320034                           0.781899   \n",
       "3                 1.336843                           0.728191   \n",
       "4                 1.381158                           0.675281   \n",
       "...                    ...                                ...   \n",
       "1899              1.407162                          26.876148   \n",
       "1900              1.859609                          26.533231   \n",
       "1901              1.868420                          26.188786   \n",
       "1902              1.888080                          25.832157   \n",
       "1903              1.886876                          25.463272   \n",
       "\n",
       "      People using at least basic drinking water services  \\\n",
       "0                                             86.754471     \n",
       "1                                             86.904070     \n",
       "2                                             87.451635     \n",
       "3                                             87.987194     \n",
       "4                                             88.510583     \n",
       "...                                                 ...     \n",
       "1899                                          67.016076     \n",
       "1900                                          66.491185     \n",
       "1901                                          65.966474     \n",
       "1902                                          65.454108     \n",
       "1903                                          64.954929     \n",
       "\n",
       "      Obesity among adults  Beer consumption per capita  \n",
       "0                     12.8                      1.33431  \n",
       "1                     13.3                      1.48995  \n",
       "2                     13.9                      1.28697  \n",
       "3                     14.4                      1.44830  \n",
       "4                     15.0                      1.37617  \n",
       "...                    ...                          ...  \n",
       "1899                  10.8                      2.05000  \n",
       "1900                  11.1                      2.07000  \n",
       "1901                  11.3                      2.12000  \n",
       "1902                  11.6                      2.23000  \n",
       "1903                  11.9                      1.93000  \n",
       "\n",
       "[1904 rows x 17 columns]"
      ]
     },
     "metadata": {},
     "output_type": "display_data"
    }
   ],
   "source": [
    "display(df)"
   ]
  },
  {
   "attachments": {},
   "cell_type": "markdown",
   "id": "0a28ef14",
   "metadata": {},
   "source": [
    "##### Analisando os tipos de dados "
   ]
  },
  {
   "cell_type": "code",
   "execution_count": 7,
   "id": "400cfd99",
   "metadata": {},
   "outputs": [
    {
     "name": "stdout",
     "output_type": "stream",
     "text": [
      "<class 'pandas.core.frame.DataFrame'>\n",
      "RangeIndex: 1904 entries, 0 to 1903\n",
      "Data columns (total 17 columns):\n",
      " #   Column                                               Non-Null Count  Dtype  \n",
      "---  ------                                               --------------  -----  \n",
      " 0   Country                                              1904 non-null   object \n",
      " 1   Year                                                 1904 non-null   int64  \n",
      " 2   Continent                                            1904 non-null   object \n",
      " 3   Least Developed                                      1904 non-null   bool   \n",
      " 4   Life Expectancy                                      1904 non-null   float64\n",
      " 5   Population                                           1904 non-null   int64  \n",
      " 6   CO2 emissions                                        1904 non-null   float64\n",
      " 7   Health expenditure                                   1904 non-null   float64\n",
      " 8   Electric power consumption                           1904 non-null   float64\n",
      " 9   Forest area                                          1904 non-null   float64\n",
      " 10  GDP per capita                                       1904 non-null   float64\n",
      " 11  Individuals using the Internet                       1904 non-null   float64\n",
      " 12  Military expenditure                                 1904 non-null   float64\n",
      " 13  People practicing open defecation                    1904 non-null   float64\n",
      " 14  People using at least basic drinking water services  1904 non-null   float64\n",
      " 15  Obesity among adults                                 1904 non-null   float64\n",
      " 16  Beer consumption per capita                          1904 non-null   float64\n",
      "dtypes: bool(1), float64(12), int64(2), object(2)\n",
      "memory usage: 240.0+ KB\n"
     ]
    }
   ],
   "source": [
    "df.info()"
   ]
  },
  {
   "attachments": {},
   "cell_type": "markdown",
   "id": "2bc78da3",
   "metadata": {},
   "source": [
    "##### Contagem de valores nulos no dataset"
   ]
  },
  {
   "cell_type": "code",
   "execution_count": 5,
   "id": "bad46d5b",
   "metadata": {},
   "outputs": [
    {
     "data": {
      "text/plain": [
       "Country                                                0\n",
       "Year                                                   0\n",
       "Continent                                              0\n",
       "Least Developed                                        0\n",
       "Life Expectancy                                        0\n",
       "Population                                             0\n",
       "CO2 emissions                                          0\n",
       "Health expenditure                                     0\n",
       "Electric power consumption                             0\n",
       "Forest area                                            0\n",
       "GDP per capita                                         0\n",
       "Individuals using the Internet                         0\n",
       "Military expenditure                                   0\n",
       "People practicing open defecation                      0\n",
       "People using at least basic drinking water services    0\n",
       "Obesity among adults                                   0\n",
       "Beer consumption per capita                            0\n",
       "dtype: int64"
      ]
     },
     "execution_count": 5,
     "metadata": {},
     "output_type": "execute_result"
    }
   ],
   "source": [
    "df.isnull().sum()"
   ]
  },
  {
   "cell_type": "markdown",
   "id": "baf28687",
   "metadata": {},
   "source": [
    "### Life Expectancy x CO2 emissions"
   ]
  },
  {
   "cell_type": "code",
   "execution_count": 4,
   "id": "a406bb23",
   "metadata": {},
   "outputs": [
    {
     "data": {
      "image/png": "[encoded data removed]",
      "text/plain": [
       "<Figure size 1800x576 with 2 Axes>"
      ]
     },
     "metadata": {
      "needs_background": "light"
     },
     "output_type": "display_data"
    }
   ],
   "source": [
    "# Pandas plot\n",
    "\n",
    "fig, (ax1, ax2) = plt.subplots(nrows=1, ncols=2, figsize=(25,8))\n",
    "\n",
    "df2 = df[df['Year'] >= 2010]\n",
    "\n",
    "df2_life_expectancy = df2[['Year', 'Life Expectancy']].groupby(['Year']).mean().reset_index()\n",
    "df2_co2 = df2[['Year', 'CO2 emissions']].groupby(['Year']).mean().reset_index()\n",
    "\n",
    "\n",
    "df2_life_expectancy.plot(ax = ax2, x = 'Year', \n",
    "                         y = 'Life Expectancy', kind = 'line',\n",
    "                         title = 'Life Expectancy',\n",
    "                         legend = False)\n",
    "\n",
    "df2_co2.plot(ax = ax1, x = 'Year', \n",
    "                          y = 'CO2 emissions', kind = 'line', \n",
    "                          title = 'CO2 emissions', \n",
    "                          legend = False)\n",
    "\n",
    "plt.suptitle('Life Expectancy x CO2 emissions')\n",
    "plt.show()\n"
   ]
  },
  {
   "cell_type": "markdown",
   "id": "82590248",
   "metadata": {},
   "source": [
    "For this part of the exploratory analysis, we first filtered the original data, eliminating information from years before 2010, and then calculated the average annual life expectancy and CO2 emissions for all countries. The objective of this analysis is to show that the average life expectancy worldwide increased as the CO2 emission was reducing."
   ]
  },
  {
   "attachments": {},
   "cell_type": "markdown",
   "id": "eb815197",
   "metadata": {},
   "source": [
    "### CO2 emissions - BR x EUA x CN"
   ]
  },
  {
   "cell_type": "code",
   "execution_count": 5,
   "id": "e570a3e9",
   "metadata": {},
   "outputs": [
    {
     "data": {
      "text/plain": [
       "[Text(0, 0, '2.03'),\n",
       " Text(0, 0, '2.12'),\n",
       " Text(0, 0, '2.28'),\n",
       " Text(0, 0, '2.42'),\n",
       " Text(0, 0, '2.52'),\n",
       " Text(0, 0, '2.37')]"
      ]
     },
     "execution_count": 5,
     "metadata": {},
     "output_type": "execute_result"
    },
    {
     "data": {
      "image/png": "[encoded data removed]",
      "text/plain": [
       "<Figure size 1296x576 with 1 Axes>"
      ]
     },
     "metadata": {
      "needs_background": "light"
     },
     "output_type": "display_data"
    }
   ],
   "source": [
    "# matplotlib\n",
    "\n",
    "df2_brazil = df2[df2['Country'] == 'Brazil']\n",
    "df2_brazil = df2_brazil['CO2 emissions']\n",
    "\n",
    "df2_eua = df2[df2['Country'] == 'United States']\n",
    "df2_eua = df2_eua['CO2 emissions']\n",
    "\n",
    "df2_china = df2[df2['Country'] == 'China']\n",
    "df2_china = df2_china['CO2 emissions']\n",
    "\n",
    "years = list(df2['Year'].unique())\n",
    "y = np.arange(len(years))\n",
    "width = 0.4\n",
    "\n",
    "fig, ax = plt.subplots(figsize = (18,8))\n",
    "\n",
    "data1 = ax.bar(y, df2_eua, width, label = 'EUA', color = 'c')\n",
    "data2 = ax.bar(y, df2_china, width, label = 'CN', color = 'orange')\n",
    "data3 = ax.bar(y, df2_brazil, width, label = 'BR', color = 'green')\n",
    "\n",
    "ax.set_title('CO2 emissions - BR x EUA x CN')\n",
    "ax.set_ylabel('CO2 emissions (tons)')\n",
    "ax.set_xticks(y, years)\n",
    "ax.legend(loc = 'upper right')\n",
    "    \n",
    "\n",
    "ax.bar_label(data1, fmt = '%.2f', fontsize = 15)\n",
    "ax.bar_label(data2, fmt = '%.2f', fontsize = 15)\n",
    "ax.bar_label(data3, fmt = '%.2f', fontsize = 15)\n"
   ]
  },
  {
   "cell_type": "markdown",
   "id": "429469d0",
   "metadata": {},
   "source": [
    "### Life Expectancy - EUA x BR"
   ]
  },
  {
   "cell_type": "code",
   "execution_count": 14,
   "id": "b51861c9",
   "metadata": {},
   "outputs": [
    {
     "data": {
      "text/plain": [
       "[Text(0, 0, '73.62'),\n",
       " Text(0, 0, '73.92'),\n",
       " Text(0, 0, '74.21'),\n",
       " Text(0, 0, '74.48'),\n",
       " Text(0, 0, '74.75'),\n",
       " Text(0, 0, '74.99')]"
      ]
     },
     "execution_count": 14,
     "metadata": {},
     "output_type": "execute_result"
    },
    {
     "data": {
      "image/png": "[encoded data removed]",
      "text/plain": [
       "<Figure size 1440x720 with 1 Axes>"
      ]
     },
     "metadata": {
      "needs_background": "light"
     },
     "output_type": "display_data"
    }
   ],
   "source": [
    "# matplotlib\n",
    "\n",
    "df2_br = df2[df2['Country'] == 'Brazil']\n",
    "df2_br = df2_br['Life Expectancy']\n",
    "\n",
    "df2_eua = df2[df2['Country'] == 'United States']\n",
    "df2_eua = df2_eua['Life Expectancy']\n",
    "\n",
    "years = list(df2['Year'].unique())\n",
    "y = np.arange(len(years))\n",
    "width = 0.4\n",
    "\n",
    "fig, ax = plt.subplots(figsize = (20,10))\n",
    "\n",
    "data1 = ax.bar(y + width/2, df2_eua, width, label = 'EUA', color = 'c')\n",
    "data2 = ax.bar(y - width/2, df2_br, width, label = 'BR', color = 'green')\n",
    "\n",
    "ax.set_title('Life Expectancy - EUA x BR')\n",
    "ax.set_ylabel('Life Expectancy')\n",
    "ax.set_xticks(y, years)\n",
    "ax.legend(loc = 'upper right')\n",
    "\n",
    "ax.bar_label(data1, fmt = '%.2f', fontsize = 15)\n",
    "ax.bar_label(data2, fmt = '%.2f', fontsize = 15)\n"
   ]
  },
  {
   "cell_type": "markdown",
   "id": "503dc938",
   "metadata": {},
   "source": [
    "For the graphics generated with matplotlib, a comparison was made between the United States, China, and Brazil in relation to the level of CO2 emission, showing that the U.S. is the country that emits the most CO2, then the comparison of life expectancy between Brazil and the United States serves to show that although the average CO2 emissions have reduced over the years and life expectancy has increased, it does not mean that this is directly related to CO2 emission."
   ]
  },
  {
   "cell_type": "markdown",
   "id": "391a7d42",
   "metadata": {},
   "source": [
    "### CO2 emissions x GDP per capita"
   ]
  },
  {
   "cell_type": "code",
   "execution_count": 7,
   "id": "26d62cae",
   "metadata": {},
   "outputs": [],
   "source": [
    "# handling data\n",
    "\n",
    "df2_low_expectancy = df2[df2['Year'] ==2015].sort_values(by = ['Life Expectancy'])[:5]\n",
    "df2_low_expectancy['Life exp Classification'] = 'low'\n",
    "\n",
    "df2_high_expectancy = df2[df2['Year'] ==2015].sort_values(by = ['Life Expectancy'],ascending = False)[:5]\n",
    "df2_high_expectancy['Life exp Classification'] = 'high'\n",
    "\n",
    "df2_expectancy = pd.merge(df2_low_expectancy, df2_high_expectancy, how = 'outer')\n",
    "df2_expectancy = df2_expectancy[['Country', \n",
    "                                 'Life Expectancy', \n",
    "                                 'GDP per capita', \n",
    "                                 'People practicing open defecation', \n",
    "                                 'Health expenditure', \n",
    "                                 'CO2 emissions', \n",
    "                                 'Population', \n",
    "                                 'Life exp Classification']]\n"
   ]
  },
  {
   "cell_type": "code",
   "execution_count": 16,
   "id": "f44ee2c1",
   "metadata": {},
   "outputs": [
    {
     "data": {
      "application/vnd.plotly.v1+json": {
       "config": {
        "plotlyServerURL": "https://plot.ly"
       },
       "data": [
        {
         "alignmentgroup": "True",
         "customdata": [
          [
           181137454,
           20.62403473,
           3.58194971,
           0.594907347,
           53.112,
           "low"
          ],
          [
           23226148,
           27.55558706,
           3.21990895,
           0.422368807,
           56.065,
           "low"
          ],
          [
           27042001,
           30.3410581,
           6.7166338,
           0.204126905,
           57.206,
           "low"
          ],
          [
           23298376,
           6.124247237,
           3.74879193,
           0.363115439,
           57.583,
           "low"
          ],
          [
           73767445,
           11.65966735,
           3.97874045,
           0.069678432,
           58.828,
           "low"
          ],
          [
           8282396,
           0,
           11.00794983,
           4.719648777,
           82.89756098,
           "high"
          ],
          [
           46444832,
           0,
           9.12617207,
           5.51794436,
           82.83170732,
           "high"
          ],
          [
           60730582,
           0,
           8.85689163,
           5.563259469,
           82.54390244,
           "high"
          ],
          [
           23815995,
           0,
           9.32758904,
           15.863288,
           82.4,
           "high"
          ],
          [
           66548272,
           0,
           11.4475565,
           4.677807228,
           82.32195122,
           "high"
          ]
         ],
         "hovertemplate": "Country=%{x}<br>GDP per capita=%{y}<br>Population=%{customdata[0]}<br>People practicing open defecation=%{customdata[1]}<br>Health expenditure=%{customdata[2]}<br>CO2 emissions=%{marker.color}<br>Life Expectancy=%{customdata[4]}<br>Life exp Classification=%{customdata[5]}<extra></extra>",
         "legendgroup": "",
         "marker": {
          "color": [
           0.594907347,
           0.422368807,
           0.204126905,
           0.363115439,
           0.069678432,
           4.719648777,
           5.51794436,
           5.563259469,
           15.863288,
           4.677807228
          ],
          "coloraxis": "coloraxis",
          "pattern": {
           "shape": ""
          }
         },
         "name": "",
         "offsetgroup": "",
         "orientation": "v",
         "showlegend": false,
         "textposition": "auto",
         "type": "bar",
         "x": [
          "Nigeria",
          "Cote d'Ivoire",
          "Mozambique",
          "Cameroon",
          "Congo Dem. Rep.",
          "Switzerland",
          "Spain",
          "Italy",
          "Australia",
          "France"
         ],
         "xaxis": "x",
         "y": [
          5426.332787,
          4652.889619,
          1291.268034,
          3395.628961,
          849.7608186,
          66020.20434,
          34903.12748,
          36899.38521,
          46248.61646,
          40849.99738
         ],
         "yaxis": "y"
        }
       ],
       "layout": {
        "barmode": "relative",
        "coloraxis": {
         "colorbar": {
          "title": {
           "text": "CO2 emissions"
          }
         },
         "colorscale": [
          [
           0,
           "#0d0887"
          ],
          [
           0.1111111111111111,
           "#46039f"
          ],
          [
           0.2222222222222222,
           "#7201a8"
          ],
          [
           0.3333333333333333,
           "#9c179e"
          ],
          [
           0.4444444444444444,
           "#bd3786"
          ],
          [
           0.5555555555555556,
           "#d8576b"
          ],
          [
           0.6666666666666666,
           "#ed7953"
          ],
          [
           0.7777777777777778,
           "#fb9f3a"
          ],
          [
           0.8888888888888888,
           "#fdca26"
          ],
          [
           1,
           "#f0f921"
          ]
         ]
        },
        "height": 500,
        "legend": {
         "tracegroupgap": 0
        },
        "template": {
         "data": {
          "bar": [
           {
            "error_x": {
             "color": "#2a3f5f"
            },
            "error_y": {
             "color": "#2a3f5f"
            },
            "marker": {
             "line": {
              "color": "#E5ECF6",
              "width": 0.5
             },
             "pattern": {
              "fillmode": "overlay",
              "size": 10,
              "solidity": 0.2
             }
            },
            "type": "bar"
           }
          ],
          "barpolar": [
           {
            "marker": {
             "line": {
              "color": "#E5ECF6",
              "width": 0.5
             },
             "pattern": {
              "fillmode": "overlay",
              "size": 10,
              "solidity": 0.2
             }
            },
            "type": "barpolar"
           }
          ],
          "carpet": [
           {
            "aaxis": {
             "endlinecolor": "#2a3f5f",
             "gridcolor": "white",
             "linecolor": "white",
             "minorgridcolor": "white",
             "startlinecolor": "#2a3f5f"
            },
            "baxis": {
             "endlinecolor": "#2a3f5f",
             "gridcolor": "white",
             "linecolor": "white",
             "minorgridcolor": "white",
             "startlinecolor": "#2a3f5f"
            },
            "type": "carpet"
           }
          ],
          "choropleth": [
           {
            "colorbar": {
             "outlinewidth": 0,
             "ticks": ""
            },
            "type": "choropleth"
           }
          ],
          "contour": [
           {
            "colorbar": {
             "outlinewidth": 0,
             "ticks": ""
            },
            "colorscale": [
             [
              0,
              "#0d0887"
             ],
             [
              0.1111111111111111,
              "#46039f"
             ],
             [
              0.2222222222222222,
              "#7201a8"
             ],
             [
              0.3333333333333333,
              "#9c179e"
             ],
             [
              0.4444444444444444,
              "#bd3786"
             ],
             [
              0.5555555555555556,
              "#d8576b"
             ],
             [
              0.6666666666666666,
              "#ed7953"
             ],
             [
              0.7777777777777778,
              "#fb9f3a"
             ],
             [
              0.8888888888888888,
              "#fdca26"
             ],
             [
              1,
              "#f0f921"
             ]
            ],
            "type": "contour"
           }
          ],
          "contourcarpet": [
           {
            "colorbar": {
             "outlinewidth": 0,
             "ticks": ""
            },
            "type": "contourcarpet"
           }
          ],
          "heatmap": [
           {
            "colorbar": {
             "outlinewidth": 0,
             "ticks": ""
            },
            "colorscale": [
             [
              0,
              "#0d0887"
             ],
             [
              0.1111111111111111,
              "#46039f"
             ],
             [
              0.2222222222222222,
              "#7201a8"
             ],
             [
              0.3333333333333333,
              "#9c179e"
             ],
             [
              0.4444444444444444,
              "#bd3786"
             ],
             [
              0.5555555555555556,
              "#d8576b"
             ],
             [
              0.6666666666666666,
              "#ed7953"
             ],
             [
              0.7777777777777778,
              "#fb9f3a"
             ],
             [
              0.8888888888888888,
              "#fdca26"
             ],
             [
              1,
              "#f0f921"
             ]
            ],
            "type": "heatmap"
           }
          ],
          "heatmapgl": [
           {
            "colorbar": {
             "outlinewidth": 0,
             "ticks": ""
            },
            "colorscale": [
             [
              0,
              "#0d0887"
             ],
             [
              0.1111111111111111,
              "#46039f"
             ],
             [
              0.2222222222222222,
              "#7201a8"
             ],
             [
              0.3333333333333333,
              "#9c179e"
             ],
             [
              0.4444444444444444,
              "#bd3786"
             ],
             [
              0.5555555555555556,
              "#d8576b"
             ],
             [
              0.6666666666666666,
              "#ed7953"
             ],
             [
              0.7777777777777778,
              "#fb9f3a"
             ],
             [
              0.8888888888888888,
              "#fdca26"
             ],
             [
              1,
              "#f0f921"
             ]
            ],
            "type": "heatmapgl"
           }
          ],
          "histogram": [
           {
            "marker": {
             "pattern": {
              "fillmode": "overlay",
              "size": 10,
              "solidity": 0.2
             }
            },
            "type": "histogram"
           }
          ],
          "histogram2d": [
           {
            "colorbar": {
             "outlinewidth": 0,
             "ticks": ""
            },
            "colorscale": [
             [
              0,
              "#0d0887"
             ],
             [
              0.1111111111111111,
              "#46039f"
             ],
             [
              0.2222222222222222,
              "#7201a8"
             ],
             [
              0.3333333333333333,
              "#9c179e"
             ],
             [
              0.4444444444444444,
              "#bd3786"
             ],
             [
              0.5555555555555556,
              "#d8576b"
             ],
             [
              0.6666666666666666,
              "#ed7953"
             ],
             [
              0.7777777777777778,
              "#fb9f3a"
             ],
             [
              0.8888888888888888,
              "#fdca26"
             ],
             [
              1,
              "#f0f921"
             ]
            ],
            "type": "histogram2d"
           }
          ],
          "histogram2dcontour": [
           {
            "colorbar": {
             "outlinewidth": 0,
             "ticks": ""
            },
            "colorscale": [
             [
              0,
              "#0d0887"
             ],
             [
              0.1111111111111111,
              "#46039f"
             ],
             [
              0.2222222222222222,
              "#7201a8"
             ],
             [
              0.3333333333333333,
              "#9c179e"
             ],
             [
              0.4444444444444444,
              "#bd3786"
             ],
             [
              0.5555555555555556,
              "#d8576b"
             ],
             [
              0.6666666666666666,
              "#ed7953"
             ],
             [
              0.7777777777777778,
              "#fb9f3a"
             ],
             [
              0.8888888888888888,
              "#fdca26"
             ],
             [
              1,
              "#f0f921"
             ]
            ],
            "type": "histogram2dcontour"
           }
          ],
          "mesh3d": [
           {
            "colorbar": {
             "outlinewidth": 0,
             "ticks": ""
            },
            "type": "mesh3d"
           }
          ],
          "parcoords": [
           {
            "line": {
             "colorbar": {
              "outlinewidth": 0,
              "ticks": ""
             }
            },
            "type": "parcoords"
           }
          ],
          "pie": [
           {
            "automargin": true,
            "type": "pie"
           }
          ],
          "scatter": [
           {
            "fillpattern": {
             "fillmode": "overlay",
             "size": 10,
             "solidity": 0.2
            },
            "type": "scatter"
           }
          ],
          "scatter3d": [
           {
            "line": {
             "colorbar": {
              "outlinewidth": 0,
              "ticks": ""
             }
            },
            "marker": {
             "colorbar": {
              "outlinewidth": 0,
              "ticks": ""
             }
            },
            "type": "scatter3d"
           }
          ],
          "scattercarpet": [
           {
            "marker": {
             "colorbar": {
              "outlinewidth": 0,
              "ticks": ""
             }
            },
            "type": "scattercarpet"
           }
          ],
          "scattergeo": [
           {
            "marker": {
             "colorbar": {
              "outlinewidth": 0,
              "ticks": ""
             }
            },
            "type": "scattergeo"
           }
          ],
          "scattergl": [
           {
            "marker": {
             "colorbar": {
              "outlinewidth": 0,
              "ticks": ""
             }
            },
            "type": "scattergl"
           }
          ],
          "scattermapbox": [
           {
            "marker": {
             "colorbar": {
              "outlinewidth": 0,
              "ticks": ""
             }
            },
            "type": "scattermapbox"
           }
          ],
          "scatterpolar": [
           {
            "marker": {
             "colorbar": {
              "outlinewidth": 0,
              "ticks": ""
             }
            },
            "type": "scatterpolar"
           }
          ],
          "scatterpolargl": [
           {
            "marker": {
             "colorbar": {
              "outlinewidth": 0,
              "ticks": ""
             }
            },
            "type": "scatterpolargl"
           }
          ],
          "scatterternary": [
           {
            "marker": {
             "colorbar": {
              "outlinewidth": 0,
              "ticks": ""
             }
            },
            "type": "scatterternary"
           }
          ],
          "surface": [
           {
            "colorbar": {
             "outlinewidth": 0,
             "ticks": ""
            },
            "colorscale": [
             [
              0,
              "#0d0887"
             ],
             [
              0.1111111111111111,
              "#46039f"
             ],
             [
              0.2222222222222222,
              "#7201a8"
             ],
             [
              0.3333333333333333,
              "#9c179e"
             ],
             [
              0.4444444444444444,
              "#bd3786"
             ],
             [
              0.5555555555555556,
              "#d8576b"
             ],
             [
              0.6666666666666666,
              "#ed7953"
             ],
             [
              0.7777777777777778,
              "#fb9f3a"
             ],
             [
              0.8888888888888888,
              "#fdca26"
             ],
             [
              1,
              "#f0f921"
             ]
            ],
            "type": "surface"
           }
          ],
          "table": [
           {
            "cells": {
             "fill": {
              "color": "#EBF0F8"
             },
             "line": {
              "color": "white"
             }
            },
            "header": {
             "fill": {
              "color": "#C8D4E3"
             },
             "line": {
              "color": "white"
             }
            },
            "type": "table"
           }
          ]
         },
         "layout": {
          "annotationdefaults": {
           "arrowcolor": "#2a3f5f",
           "arrowhead": 0,
           "arrowwidth": 1
          },
          "autotypenumbers": "strict",
          "coloraxis": {
           "colorbar": {
            "outlinewidth": 0,
            "ticks": ""
           }
          },
          "colorscale": {
           "diverging": [
            [
             0,
             "#8e0152"
            ],
            [
             0.1,
             "#c51b7d"
            ],
            [
             0.2,
             "#de77ae"
            ],
            [
             0.3,
             "#f1b6da"
            ],
            [
             0.4,
             "#fde0ef"
            ],
            [
             0.5,
             "#f7f7f7"
            ],
            [
             0.6,
             "#e6f5d0"
            ],
            [
             0.7,
             "#b8e186"
            ],
            [
             0.8,
             "#7fbc41"
            ],
            [
             0.9,
             "#4d9221"
            ],
            [
             1,
             "#276419"
            ]
           ],
           "sequential": [
            [
             0,
             "#0d0887"
            ],
            [
             0.1111111111111111,
             "#46039f"
            ],
            [
             0.2222222222222222,
             "#7201a8"
            ],
            [
             0.3333333333333333,
             "#9c179e"
            ],
            [
             0.4444444444444444,
             "#bd3786"
            ],
            [
             0.5555555555555556,
             "#d8576b"
            ],
            [
             0.6666666666666666,
             "#ed7953"
            ],
            [
             0.7777777777777778,
             "#fb9f3a"
            ],
            [
             0.8888888888888888,
             "#fdca26"
            ],
            [
             1,
             "#f0f921"
            ]
           ],
           "sequentialminus": [
            [
             0,
             "#0d0887"
            ],
            [
             0.1111111111111111,
             "#46039f"
            ],
            [
             0.2222222222222222,
             "#7201a8"
            ],
            [
             0.3333333333333333,
             "#9c179e"
            ],
            [
             0.4444444444444444,
             "#bd3786"
            ],
            [
             0.5555555555555556,
             "#d8576b"
            ],
            [
             0.6666666666666666,
             "#ed7953"
            ],
            [
             0.7777777777777778,
             "#fb9f3a"
            ],
            [
             0.8888888888888888,
             "#fdca26"
            ],
            [
             1,
             "#f0f921"
            ]
           ]
          },
          "colorway": [
           "#636efa",
           "#EF553B",
           "#00cc96",
           "#ab63fa",
           "#FFA15A",
           "#19d3f3",
           "#FF6692",
           "#B6E880",
           "#FF97FF",
           "#FECB52"
          ],
          "font": {
           "color": "#2a3f5f"
          },
          "geo": {
           "bgcolor": "white",
           "lakecolor": "white",
           "landcolor": "#E5ECF6",
           "showlakes": true,
           "showland": true,
           "subunitcolor": "white"
          },
          "hoverlabel": {
           "align": "left"
          },
          "hovermode": "closest",
          "mapbox": {
           "style": "light"
          },
          "paper_bgcolor": "white",
          "plot_bgcolor": "#E5ECF6",
          "polar": {
           "angularaxis": {
            "gridcolor": "white",
            "linecolor": "white",
            "ticks": ""
           },
           "bgcolor": "#E5ECF6",
           "radialaxis": {
            "gridcolor": "white",
            "linecolor": "white",
            "ticks": ""
           }
          },
          "scene": {
           "xaxis": {
            "backgroundcolor": "#E5ECF6",
            "gridcolor": "white",
            "gridwidth": 2,
            "linecolor": "white",
            "showbackground": true,
            "ticks": "",
            "zerolinecolor": "white"
           },
           "yaxis": {
            "backgroundcolor": "#E5ECF6",
            "gridcolor": "white",
            "gridwidth": 2,
            "linecolor": "white",
            "showbackground": true,
            "ticks": "",
            "zerolinecolor": "white"
           },
           "zaxis": {
            "backgroundcolor": "#E5ECF6",
            "gridcolor": "white",
            "gridwidth": 2,
            "linecolor": "white",
            "showbackground": true,
            "ticks": "",
            "zerolinecolor": "white"
           }
          },
          "shapedefaults": {
           "line": {
            "color": "#2a3f5f"
           }
          },
          "ternary": {
           "aaxis": {
            "gridcolor": "white",
            "linecolor": "white",
            "ticks": ""
           },
           "baxis": {
            "gridcolor": "white",
            "linecolor": "white",
            "ticks": ""
           },
           "bgcolor": "#E5ECF6",
           "caxis": {
            "gridcolor": "white",
            "linecolor": "white",
            "ticks": ""
           }
          },
          "title": {
           "x": 0.05
          },
          "xaxis": {
           "automargin": true,
           "gridcolor": "white",
           "linecolor": "white",
           "ticks": "",
           "title": {
            "standoff": 15
           },
           "zerolinecolor": "white",
           "zerolinewidth": 2
          },
          "yaxis": {
           "automargin": true,
           "gridcolor": "white",
           "linecolor": "white",
           "ticks": "",
           "title": {
            "standoff": 15
           },
           "zerolinecolor": "white",
           "zerolinewidth": 2
          }
         }
        },
        "title": {
         "text": "CO2 emissions x GDP per capita",
         "x": 0.5
        },
        "xaxis": {
         "anchor": "y",
         "domain": [
          0,
          1
         ],
         "title": {
          "text": "Country"
         }
        },
        "yaxis": {
         "anchor": "x",
         "domain": [
          0,
          1
         ],
         "title": {
          "text": "GDP per capita"
         }
        }
       }
      }
     },
     "metadata": {},
     "output_type": "display_data"
    }
   ],
   "source": [
    "# Plotly\n",
    "\n",
    "fig = px.bar(df2_expectancy, x='Country', y='GDP per capita',\n",
    "             hover_data=['Population',\n",
    "                         'People practicing open defecation',\n",
    "                         'Health expenditure',\n",
    "                         'CO2 emissions',\n",
    "                         'Life Expectancy', \n",
    "                         'Life exp Classification'], \n",
    "             color='CO2 emissions',\n",
    "             title = 'CO2 emissions x GDP per capita',\n",
    "             height=500)\n",
    "\n",
    "fig.update_layout(title_x = 0.5)\n",
    "fig.show()"
   ]
  },
  {
   "cell_type": "markdown",
   "id": "0271b35c",
   "metadata": {},
   "source": [
    "For the graphs generated with Plotly, initially there was a filtering in the data, selecting only the year 2015 and then the 5 countries with lower life expectancy and 5 with higher expectancy, being compared the GDP per capita against CO2 emissions, aiming to show that there is a strong correlation between these indices, in addition, we also see that countries with lower GDP in this comparison, suffer not only with low life expectancy, but also with the lack of basic sanitation in most cities, causing the rate of people defecating in the open to be very high in relation to countries with higher GDP, considering that the index of the 5 largest is zero, although it does not have a very strong correlation between them, when we analyze the data in full."
   ]
  },
  {
   "cell_type": "code",
   "execution_count": 34,
   "id": "4d994e7d",
   "metadata": {},
   "outputs": [
    {
     "data": {
      "text/html": [
       "<div>\n",
       "<style scoped>\n",
       "    .dataframe tbody tr th:only-of-type {\n",
       "        vertical-align: middle;\n",
       "    }\n",
       "\n",
       "    .dataframe tbody tr th {\n",
       "        vertical-align: top;\n",
       "    }\n",
       "\n",
       "    .dataframe thead th {\n",
       "        text-align: right;\n",
       "    }\n",
       "</style>\n",
       "<table border=\"1\" class=\"dataframe\">\n",
       "  <thead>\n",
       "    <tr style=\"text-align: right;\">\n",
       "      <th></th>\n",
       "      <th>Country</th>\n",
       "      <th>Life Expectancy</th>\n",
       "      <th>GDP per capita</th>\n",
       "      <th>People practicing open defecation</th>\n",
       "      <th>Health expenditure</th>\n",
       "      <th>CO2 emissions</th>\n",
       "      <th>Population</th>\n",
       "      <th>Life exp Classification</th>\n",
       "    </tr>\n",
       "  </thead>\n",
       "  <tbody>\n",
       "    <tr>\n",
       "      <th>0</th>\n",
       "      <td>Nigeria</td>\n",
       "      <td>53.112000</td>\n",
       "      <td>5426.332787</td>\n",
       "      <td>20.624035</td>\n",
       "      <td>3.581950</td>\n",
       "      <td>0.594907</td>\n",
       "      <td>181137454</td>\n",
       "      <td>low</td>\n",
       "    </tr>\n",
       "    <tr>\n",
       "      <th>1</th>\n",
       "      <td>Cote d'Ivoire</td>\n",
       "      <td>56.065000</td>\n",
       "      <td>4652.889619</td>\n",
       "      <td>27.555587</td>\n",
       "      <td>3.219909</td>\n",
       "      <td>0.422369</td>\n",
       "      <td>23226148</td>\n",
       "      <td>low</td>\n",
       "    </tr>\n",
       "    <tr>\n",
       "      <th>2</th>\n",
       "      <td>Mozambique</td>\n",
       "      <td>57.206000</td>\n",
       "      <td>1291.268034</td>\n",
       "      <td>30.341058</td>\n",
       "      <td>6.716634</td>\n",
       "      <td>0.204127</td>\n",
       "      <td>27042001</td>\n",
       "      <td>low</td>\n",
       "    </tr>\n",
       "    <tr>\n",
       "      <th>3</th>\n",
       "      <td>Cameroon</td>\n",
       "      <td>57.583000</td>\n",
       "      <td>3395.628961</td>\n",
       "      <td>6.124247</td>\n",
       "      <td>3.748792</td>\n",
       "      <td>0.363115</td>\n",
       "      <td>23298376</td>\n",
       "      <td>low</td>\n",
       "    </tr>\n",
       "    <tr>\n",
       "      <th>4</th>\n",
       "      <td>Congo Dem. Rep.</td>\n",
       "      <td>58.828000</td>\n",
       "      <td>849.760819</td>\n",
       "      <td>11.659667</td>\n",
       "      <td>3.978740</td>\n",
       "      <td>0.069678</td>\n",
       "      <td>73767445</td>\n",
       "      <td>low</td>\n",
       "    </tr>\n",
       "    <tr>\n",
       "      <th>5</th>\n",
       "      <td>Switzerland</td>\n",
       "      <td>82.897561</td>\n",
       "      <td>66020.204340</td>\n",
       "      <td>0.000000</td>\n",
       "      <td>11.007950</td>\n",
       "      <td>4.719649</td>\n",
       "      <td>8282396</td>\n",
       "      <td>high</td>\n",
       "    </tr>\n",
       "    <tr>\n",
       "      <th>6</th>\n",
       "      <td>Spain</td>\n",
       "      <td>82.831707</td>\n",
       "      <td>34903.127480</td>\n",
       "      <td>0.000000</td>\n",
       "      <td>9.126172</td>\n",
       "      <td>5.517944</td>\n",
       "      <td>46444832</td>\n",
       "      <td>high</td>\n",
       "    </tr>\n",
       "    <tr>\n",
       "      <th>7</th>\n",
       "      <td>Italy</td>\n",
       "      <td>82.543902</td>\n",
       "      <td>36899.385210</td>\n",
       "      <td>0.000000</td>\n",
       "      <td>8.856892</td>\n",
       "      <td>5.563259</td>\n",
       "      <td>60730582</td>\n",
       "      <td>high</td>\n",
       "    </tr>\n",
       "    <tr>\n",
       "      <th>8</th>\n",
       "      <td>Australia</td>\n",
       "      <td>82.400000</td>\n",
       "      <td>46248.616460</td>\n",
       "      <td>0.000000</td>\n",
       "      <td>9.327589</td>\n",
       "      <td>15.863288</td>\n",
       "      <td>23815995</td>\n",
       "      <td>high</td>\n",
       "    </tr>\n",
       "    <tr>\n",
       "      <th>9</th>\n",
       "      <td>France</td>\n",
       "      <td>82.321951</td>\n",
       "      <td>40849.997380</td>\n",
       "      <td>0.000000</td>\n",
       "      <td>11.447556</td>\n",
       "      <td>4.677807</td>\n",
       "      <td>66548272</td>\n",
       "      <td>high</td>\n",
       "    </tr>\n",
       "  </tbody>\n",
       "</table>\n",
       "</div>"
      ],
      "text/plain": [
       "           Country  Life Expectancy  GDP per capita  \\\n",
       "0          Nigeria        53.112000     5426.332787   \n",
       "1    Cote d'Ivoire        56.065000     4652.889619   \n",
       "2       Mozambique        57.206000     1291.268034   \n",
       "3         Cameroon        57.583000     3395.628961   \n",
       "4  Congo Dem. Rep.        58.828000      849.760819   \n",
       "5      Switzerland        82.897561    66020.204340   \n",
       "6            Spain        82.831707    34903.127480   \n",
       "7            Italy        82.543902    36899.385210   \n",
       "8        Australia        82.400000    46248.616460   \n",
       "9           France        82.321951    40849.997380   \n",
       "\n",
       "   People practicing open defecation  Health expenditure  CO2 emissions  \\\n",
       "0                          20.624035            3.581950       0.594907   \n",
       "1                          27.555587            3.219909       0.422369   \n",
       "2                          30.341058            6.716634       0.204127   \n",
       "3                           6.124247            3.748792       0.363115   \n",
       "4                          11.659667            3.978740       0.069678   \n",
       "5                           0.000000           11.007950       4.719649   \n",
       "6                           0.000000            9.126172       5.517944   \n",
       "7                           0.000000            8.856892       5.563259   \n",
       "8                           0.000000            9.327589      15.863288   \n",
       "9                           0.000000           11.447556       4.677807   \n",
       "\n",
       "   Population Life exp Classification  \n",
       "0   181137454                     low  \n",
       "1    23226148                     low  \n",
       "2    27042001                     low  \n",
       "3    23298376                     low  \n",
       "4    73767445                     low  \n",
       "5     8282396                    high  \n",
       "6    46444832                    high  \n",
       "7    60730582                    high  \n",
       "8    23815995                    high  \n",
       "9    66548272                    high  "
      ]
     },
     "execution_count": 34,
     "metadata": {},
     "output_type": "execute_result"
    }
   ],
   "source": [
    "df2_expectancy"
   ]
  }
 ],
 "metadata": {
  "kernelspec": {
   "display_name": "Python 3.10.0 64-bit",
   "language": "python",
   "name": "python3"
  },
  "language_info": {
   "codemirror_mode": {
    "name": "ipython",
    "version": 3
   },
   "file_extension": ".py",
   "mimetype": "text/x-python",
   "name": "python",
   "nbconvert_exporter": "python",
   "pygments_lexer": "ipython3",
   "version": "3.10.9"
  },
  "vscode": {
   "interpreter": {
    "hash": "9f8688d2bc69c748babb560adc9158621fb8aef49546882c3e4c6326402dd0cc"
   }
  }
 },
 "nbformat": 4,
 "nbformat_minor": 5
}
