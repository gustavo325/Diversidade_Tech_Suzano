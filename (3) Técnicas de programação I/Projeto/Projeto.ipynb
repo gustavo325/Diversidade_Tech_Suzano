{
 "cells": [
  {
   "cell_type": "markdown",
   "metadata": {},
   "source": [
    "##### Bibliotecas utilizadas"
   ]
  },
  {
   "cell_type": "code",
   "execution_count": 123,
   "metadata": {},
   "outputs": [],
   "source": [
    "import requests \n",
    "import pandas as pd\n",
    "import numpy as np\n",
    "import time\n",
    "import random\n",
    "import csv"
   ]
  },
  {
   "cell_type": "markdown",
   "metadata": {},
   "source": [
    "##### Gerando dados"
   ]
  },
  {
   "cell_type": "code",
   "execution_count": 79,
   "metadata": {},
   "outputs": [],
   "source": [
    "dados = requests.get('http://localhost:3000/api/ep1').json()"
   ]
  },
  {
   "cell_type": "markdown",
   "metadata": {},
   "source": [
    "##### Tratando preços"
   ]
  },
  {
   "cell_type": "code",
   "execution_count": 99,
   "metadata": {},
   "outputs": [],
   "source": [
    "# Gerando preços aleatórios para produtos novos\n",
    "valores = []\n",
    "def precos(): \n",
    "    for prod in dados:  \n",
    "        for indice,elemento in enumerate(prod.items()):\n",
    "            if indice > 1:\n",
    "                if 'preço_' + str(elemento[0]) not in prod:\n",
    "                    valores.append({'preço_' + str(elemento[0]): random.randint(20,60)})\n",
    "precos()"
   ]
  },
  {
   "cell_type": "code",
   "execution_count": null,
   "metadata": {},
   "outputs": [],
   "source": [
    "# Atualizando preços já existentes\n",
    "\n"
   ]
  },
  {
   "cell_type": "code",
   "execution_count": null,
   "metadata": {},
   "outputs": [],
   "source": [
    "print(valores)"
   ]
  },
  {
   "cell_type": "markdown",
   "metadata": {},
   "source": [
    "##### Tratando data"
   ]
  },
  {
   "cell_type": "code",
   "execution_count": 81,
   "metadata": {},
   "outputs": [],
   "source": [
    "for linha in dados:\n",
    "    segundos = linha['date']\n",
    "    linha['date'] = time.ctime(segundos)"
   ]
  },
  {
   "cell_type": "code",
   "execution_count": null,
   "metadata": {},
   "outputs": [],
   "source": [
    "print(dados)"
   ]
  },
  {
   "cell_type": "code",
   "execution_count": null,
   "metadata": {},
   "outputs": [],
   "source": [
    "pd.DataFrame(dados)"
   ]
  },
  {
   "cell_type": "markdown",
   "metadata": {},
   "source": [
    "##### Salvando arquivo CSV"
   ]
  },
  {
   "cell_type": "code",
   "execution_count": 104,
   "metadata": {},
   "outputs": [],
   "source": [
    "with open(file = 'weekly_price.csv', mode = 'a', encoding = 'iso-8859-1') as valor: \n",
    "    linhas_para_salvar = []\n",
    "    for linha in valores:\n",
    "        linha_formatada = f'{linha}\\n'\n",
    "        linhas_para_salvar.append(linha_formatada)\n",
    "    valor.writelines(linhas_para_salvar)\n",
    "    "
   ]
  },
  {
   "cell_type": "code",
   "execution_count": 161,
   "metadata": {},
   "outputs": [],
   "source": [
    "with open(file = 'all_sales.csv', mode = 'a', encoding = 'iso-8859-1') as valor: \n",
    "    cabecalho = ['id', 'date','prod_0','prod_1','prod_2','prod_3','prod_4','prod_5','prod_6','prod_7','prod_8','prod_9','prod_10','prod_11','prod_12']\n",
    "    escritor = csv.DictWriter(valor, fieldnames=cabecalho, delimiter=';')\n",
    "    escritor.writeheader()\n",
    "    escritor.writerows(dados)"
   ]
  }
 ],
 "metadata": {
  "kernelspec": {
   "display_name": "Python 3 (ipykernel)",
   "language": "python",
   "name": "python3"
  },
  "language_info": {
   "codemirror_mode": {
    "name": "ipython",
    "version": 3
   },
   "file_extension": ".py",
   "mimetype": "text/x-python",
   "name": "python",
   "nbconvert_exporter": "python",
   "pygments_lexer": "ipython3",
   "version": "3.10.0"
  },
  "vscode": {
   "interpreter": {
    "hash": "9f8688d2bc69c748babb560adc9158621fb8aef49546882c3e4c6326402dd0cc"
   }
  }
 },
 "nbformat": 4,
 "nbformat_minor": 2
}
